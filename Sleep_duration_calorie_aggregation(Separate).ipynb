{
 "cells": [
  {
   "cell_type": "code",
   "execution_count": 85,
   "metadata": {},
   "outputs": [],
   "source": [
    "import pandas as pd\n",
    "import numpy as np\n",
    "from sklearn.model_selection import train_test_split\n",
    "from sklearn.metrics import mean_squared_error, mean_absolute_error\n",
    "import statsmodels.api as sm\n",
    "import matplotlib.pyplot as plt\n",
    "\n",
    "# Load the data\n",
    "calories_hour_file = '/Users/jamesmoy/Desktop/Sleep Fitness Data/Fitabase Data 3.12.16-4.11.16/minuteCaloriesNarrow_merged.csv'\n",
    "sleep_file = '/Users/jamesmoy/Desktop/Sleep Fitness Data/Fitabase Data 3.12.16-4.11.16/minuteSleep_merged.csv'\n",
    "\n",
    "minute_sleep_data = pd.read_csv(sleep_file)\n",
    "minute_calories_data = pd.read_csv(calories_hour_file)\n"
   ]
  },
  {
   "cell_type": "code",
   "execution_count": 87,
   "metadata": {},
   "outputs": [
    {
     "name": "stderr",
     "output_type": "stream",
     "text": [
      "/var/folders/w6/vkcmr8l91_12vz93c0c46mtm0000gn/T/ipykernel_30036/2947971534.py:2: UserWarning: The argument 'infer_datetime_format' is deprecated and will be removed in a future version. A strict version of it is now the default, see https://pandas.pydata.org/pdeps/0004-consistent-to-datetime-parsing.html. You can safely remove this argument.\n",
      "  minute_sleep_data['date'] = pd.to_datetime(minute_sleep_data['date'], infer_datetime_format=True, errors='coerce')\n",
      "/var/folders/w6/vkcmr8l91_12vz93c0c46mtm0000gn/T/ipykernel_30036/2947971534.py:2: UserWarning: Could not infer format, so each element will be parsed individually, falling back to `dateutil`. To ensure parsing is consistent and as-expected, please specify a format.\n",
      "  minute_sleep_data['date'] = pd.to_datetime(minute_sleep_data['date'], infer_datetime_format=True, errors='coerce')\n",
      "/var/folders/w6/vkcmr8l91_12vz93c0c46mtm0000gn/T/ipykernel_30036/2947971534.py:3: UserWarning: The argument 'infer_datetime_format' is deprecated and will be removed in a future version. A strict version of it is now the default, see https://pandas.pydata.org/pdeps/0004-consistent-to-datetime-parsing.html. You can safely remove this argument.\n",
      "  minute_calories_data['ActivityMinute'] = pd.to_datetime(minute_calories_data['ActivityMinute'], infer_datetime_format=True, errors='coerce')\n",
      "/var/folders/w6/vkcmr8l91_12vz93c0c46mtm0000gn/T/ipykernel_30036/2947971534.py:3: UserWarning: Could not infer format, so each element will be parsed individually, falling back to `dateutil`. To ensure parsing is consistent and as-expected, please specify a format.\n",
      "  minute_calories_data['ActivityMinute'] = pd.to_datetime(minute_calories_data['ActivityMinute'], infer_datetime_format=True, errors='coerce')\n"
     ]
    },
    {
     "name": "stdout",
     "output_type": "stream",
     "text": [
      "Number of NaT values in ActivityMinute after inference: 0\n",
      "Number of NaT values in date after inference: 0\n"
     ]
    }
   ],
   "source": [
    "# Convert timestamps to datetime, allowing pandas to infer the format\n",
    "minute_sleep_data['date'] = pd.to_datetime(minute_sleep_data['date'], infer_datetime_format=True, errors='coerce')\n",
    "minute_calories_data['ActivityMinute'] = pd.to_datetime(minute_calories_data['ActivityMinute'], infer_datetime_format=True, errors='coerce')\n",
    "\n",
    "# Check for NaT values after conversion\n",
    "print(\"Number of NaT values in ActivityMinute after inference:\", minute_calories_data['ActivityMinute'].isna().sum())\n",
    "print(\"Number of NaT values in date after inference:\", minute_sleep_data['date'].isna().sum())\n"
   ]
  },
  {
   "cell_type": "code",
   "execution_count": 89,
   "metadata": {},
   "outputs": [
    {
     "name": "stderr",
     "output_type": "stream",
     "text": [
      "/var/folders/w6/vkcmr8l91_12vz93c0c46mtm0000gn/T/ipykernel_30036/4027903870.py:2: FutureWarning: 'H' is deprecated and will be removed in a future version, please use 'h' instead.\n",
      "  minute_sleep_data['ActivityHour'] = minute_sleep_data['date'].dt.floor('H')\n"
     ]
    }
   ],
   "source": [
    "# Aggregate sleep data to hourly level\n",
    "minute_sleep_data['ActivityHour'] = minute_sleep_data['date'].dt.floor('H')\n",
    "hourly_sleep_data = minute_sleep_data.groupby(['Id', 'ActivityHour'])['value'].sum().reset_index()\n",
    "hourly_sleep_data.rename(columns={'value': 'SleepDuration'}, inplace=True)"
   ]
  },
  {
   "cell_type": "code",
   "execution_count": 88,
   "metadata": {},
   "outputs": [
    {
     "name": "stdout",
     "output_type": "stream",
     "text": [
      "           Id      ActivityMinute  Calories\n",
      "0  1503960366 2024-12-01 00:00:00    0.7973\n",
      "1  1503960366 2024-12-01 00:01:00    0.7973\n",
      "2  1503960366 2024-12-01 00:02:00    0.7973\n",
      "3  1503960366 2024-12-01 00:03:00    0.7973\n",
      "4  1503960366 2024-12-01 00:04:00    0.7973\n",
      "5  1503960366 2024-12-01 00:05:00    0.7973\n",
      "6  1503960366 2024-12-01 00:06:00    0.7973\n",
      "7  1503960366 2024-12-01 00:07:00    0.7973\n",
      "8  1503960366 2024-12-01 00:08:00    0.7973\n",
      "9  1503960366 2024-12-01 00:09:00    0.7973\n"
     ]
    }
   ],
   "source": [
    "print(minute_calories_data.head(10))"
   ]
  },
  {
   "cell_type": "code",
   "execution_count": 90,
   "metadata": {},
   "outputs": [
    {
     "name": "stdout",
     "output_type": "stream",
     "text": [
      "           Id        ActivityHour     Calories\n",
      "0  1503960366 2024-12-01 00:00:00  1858.690028\n",
      "1  1503960366 2024-12-01 01:00:00  1616.455088\n",
      "2  1503960366 2024-12-01 02:00:00  1591.862997\n",
      "3  1503960366 2024-12-01 03:00:00  1527.276547\n",
      "4  1503960366 2024-12-01 04:00:00  1478.570667\n"
     ]
    },
    {
     "name": "stderr",
     "output_type": "stream",
     "text": [
      "/var/folders/w6/vkcmr8l91_12vz93c0c46mtm0000gn/T/ipykernel_30036/1049681126.py:2: FutureWarning: 'H' is deprecated and will be removed in a future version, please use 'h' instead.\n",
      "  minute_calories_data['ActivityHour'] = minute_calories_data['ActivityMinute'].dt.floor('H')\n"
     ]
    }
   ],
   "source": [
    "# Aggregate calorie data to hourly level\n",
    "minute_calories_data['ActivityHour'] = minute_calories_data['ActivityMinute'].dt.floor('H')\n",
    "hourly_calories_data = minute_calories_data.groupby(['Id', 'ActivityHour'])['Calories'].sum().reset_index()\n",
    "\n",
    "print(hourly_calories_data.head())"
   ]
  },
  {
   "cell_type": "code",
   "execution_count": 91,
   "metadata": {},
   "outputs": [],
   "source": [
    "# Merge sleep and calories data on Id and ActivityHour\n",
    "merged_data = pd.merge(hourly_sleep_data, hourly_calories_data, on=['Id', 'ActivityHour'], how='inner')\n"
   ]
  },
  {
   "cell_type": "code",
   "execution_count": 93,
   "metadata": {},
   "outputs": [],
   "source": [
    "\n",
    "# Check if merged dataset is empty\n",
    "if merged_data.empty:\n",
    "    print(\"Merged dataset is empty. Please check the merge conditions or the data alignment.\")\n",
    "else:\n",
    "    # Define features (X) and target (y)\n",
    "    X = merged_data[['SleepDuration']]\n",
    "    y = merged_data['Calories']\n",
    "\n",
    "    # Add a constant to the feature set for statsmodels (required for intercept estimation)\n",
    "    X_with_constant = sm.add_constant(X)"
   ]
  },
  {
   "cell_type": "code",
   "execution_count": 94,
   "metadata": {},
   "outputs": [
    {
     "name": "stdout",
     "output_type": "stream",
     "text": [
      "datetime64[ns]\n"
     ]
    }
   ],
   "source": [
    "print(minute_sleep_data['date'].dtype)  # Should show 'datetime64[ns]'\n"
   ]
  },
  {
   "cell_type": "code",
   "execution_count": 33,
   "metadata": {},
   "outputs": [],
   "source": [
    "# Drop the 'ActivityHour' column if it already exists to avoid conflicts\n",
    "if 'ActivityHour' in minute_sleep_data.columns:\n",
    "    minute_sleep_data.drop(columns=['ActivityHour'], inplace=True)"
   ]
  },
  {
   "cell_type": "code",
   "execution_count": 34,
   "metadata": {},
   "outputs": [
    {
     "name": "stderr",
     "output_type": "stream",
     "text": [
      "/var/folders/w6/vkcmr8l91_12vz93c0c46mtm0000gn/T/ipykernel_30036/3388869621.py:2: FutureWarning: 'H' is deprecated and will be removed in a future version, please use 'h' instead.\n",
      "  minute_sleep_data['ActivityHour'] = minute_sleep_data['date'].dt.floor('H')\n"
     ]
    }
   ],
   "source": [
    "# Aggregate sleep data to hourly level by rounding down the minute-level timestamp\n",
    "minute_sleep_data['ActivityHour'] = minute_sleep_data['date'].dt.floor('H')"
   ]
  },
  {
   "cell_type": "code",
   "execution_count": 35,
   "metadata": {},
   "outputs": [],
   "source": [
    "# Group the sleep data by Id and ActivityHour and sum the values\n",
    "hourly_sleep_data = minute_sleep_data.groupby(['Id', 'ActivityHour'])['value'].sum().reset_index()"
   ]
  },
  {
   "cell_type": "code",
   "execution_count": 36,
   "metadata": {},
   "outputs": [],
   "source": [
    "# Rename the aggregated column to 'SleepDuration'\n",
    "hourly_sleep_data.rename(columns={'value': 'SleepDuration'}, inplace=True)"
   ]
  },
  {
   "cell_type": "code",
   "execution_count": 95,
   "metadata": {},
   "outputs": [
    {
     "name": "stdout",
     "output_type": "stream",
     "text": [
      "           Id        ActivityHour  SleepDuration\n",
      "0  1503960366 2024-12-01 00:00:00            129\n",
      "1  1503960366 2024-12-01 01:00:00            468\n",
      "2  1503960366 2024-12-01 02:00:00            924\n",
      "3  1503960366 2024-12-01 03:00:00           1446\n",
      "4  1503960366 2024-12-01 04:00:00           1464\n"
     ]
    }
   ],
   "source": [
    "# Confirm the new DataFrame\n",
    "print(hourly_sleep_data.head())"
   ]
  },
  {
   "cell_type": "code",
   "execution_count": 96,
   "metadata": {},
   "outputs": [
    {
     "name": "stdout",
     "output_type": "stream",
     "text": [
      "           Id        ActivityHour     Calories\n",
      "0  1503960366 2024-12-01 00:00:00  1858.690028\n",
      "1  1503960366 2024-12-01 01:00:00  1616.455088\n",
      "2  1503960366 2024-12-01 02:00:00  1591.862997\n",
      "3  1503960366 2024-12-01 03:00:00  1527.276547\n",
      "4  1503960366 2024-12-01 04:00:00  1478.570667\n"
     ]
    }
   ],
   "source": [
    "print(hourly_calories_data.head())"
   ]
  },
  {
   "cell_type": "code",
   "execution_count": 97,
   "metadata": {},
   "outputs": [],
   "source": [
    "\n",
    "# Merge the data on Id and ActivityHour\n",
    "merged_data = pd.merge(hourly_calories_data, hourly_sleep_data, on=['Id', 'ActivityHour'], how='inner')\n"
   ]
  },
  {
   "cell_type": "code",
   "execution_count": 98,
   "metadata": {},
   "outputs": [],
   "source": [
    "# Ensure 'Id' is the same type in both datasets (e.g., string)\n",
    "hourly_calories_data['Id'] = hourly_calories_data['Id'].astype(str)\n",
    "hourly_sleep_data['Id'] = hourly_sleep_data['Id'].astype(str)\n"
   ]
  },
  {
   "cell_type": "code",
   "execution_count": 99,
   "metadata": {},
   "outputs": [
    {
     "name": "stderr",
     "output_type": "stream",
     "text": [
      "/var/folders/w6/vkcmr8l91_12vz93c0c46mtm0000gn/T/ipykernel_30036/2589920125.py:2: FutureWarning: 'H' is deprecated and will be removed in a future version, please use 'h' instead.\n",
      "  hourly_calories_data['ActivityHour'] = pd.to_datetime(hourly_calories_data['ActivityHour']).dt.floor('H')\n",
      "/var/folders/w6/vkcmr8l91_12vz93c0c46mtm0000gn/T/ipykernel_30036/2589920125.py:3: FutureWarning: 'H' is deprecated and will be removed in a future version, please use 'h' instead.\n",
      "  hourly_sleep_data['ActivityHour'] = pd.to_datetime(hourly_sleep_data['ActivityHour']).dt.floor('H')\n"
     ]
    }
   ],
   "source": [
    "# Ensure that 'ActivityHour' is properly formatted in both datasets\n",
    "hourly_calories_data['ActivityHour'] = pd.to_datetime(hourly_calories_data['ActivityHour']).dt.floor('H')\n",
    "hourly_sleep_data['ActivityHour'] = pd.to_datetime(hourly_sleep_data['ActivityHour']).dt.floor('H')\n"
   ]
  },
  {
   "cell_type": "code",
   "execution_count": 100,
   "metadata": {},
   "outputs": [
    {
     "name": "stdout",
     "output_type": "stream",
     "text": [
      "Id              0\n",
      "ActivityHour    0\n",
      "Calories        0\n",
      "dtype: int64\n",
      "Id               0\n",
      "ActivityHour     0\n",
      "SleepDuration    0\n",
      "dtype: int64\n"
     ]
    }
   ],
   "source": [
    "# Check for missing values\n",
    "print(hourly_calories_data.isna().sum())\n",
    "print(hourly_sleep_data.isna().sum())\n",
    "\n",
    "# Drop rows with missing values in key columns\n",
    "hourly_calories_data.dropna(subset=['Id', 'ActivityHour'], inplace=True)\n",
    "hourly_sleep_data.dropna(subset=['Id', 'ActivityHour'], inplace=True)\n"
   ]
  },
  {
   "cell_type": "code",
   "execution_count": 102,
   "metadata": {},
   "outputs": [],
   "source": [
    "# Build the regression model\n",
    "ols_model = sm.OLS(y, X_with_constant).fit()"
   ]
  },
  {
   "cell_type": "code",
   "execution_count": 104,
   "metadata": {},
   "outputs": [],
   "source": [
    "# Predict on the dataset\n",
    "y_pred_statsmodels = ols_model.predict(X_with_constant)\n"
   ]
  },
  {
   "cell_type": "code",
   "execution_count": 105,
   "metadata": {},
   "outputs": [],
   "source": [
    "    # Calculate evaluation metrics\n",
    "    rmse = np.sqrt(mean_squared_error(y, y_pred_statsmodels))\n",
    "    mae = mean_absolute_error(y, y_pred_statsmodels)\n",
    "    adjusted_r2 = ols_model.rsquared_adj"
   ]
  },
  {
   "cell_type": "code",
   "execution_count": 106,
   "metadata": {},
   "outputs": [
    {
     "name": "stdout",
     "output_type": "stream",
     "text": [
      "Model Summary:\n",
      "                            OLS Regression Results                            \n",
      "==============================================================================\n",
      "Dep. Variable:               Calories   R-squared:                       0.241\n",
      "Model:                            OLS   Adj. R-squared:                  0.239\n",
      "Method:                 Least Squares   F-statistic:                     91.24\n",
      "Date:                Sun, 01 Dec 2024   Prob (F-statistic):           5.93e-19\n",
      "Time:                        17:42:31   Log-Likelihood:                -2392.8\n",
      "No. Observations:                 289   AIC:                             4790.\n",
      "Df Residuals:                     287   BIC:                             4797.\n",
      "Df Model:                           1                                         \n",
      "Covariance Type:            nonrobust                                         \n",
      "=================================================================================\n",
      "                    coef    std err          t      P>|t|      [0.025      0.975]\n",
      "---------------------------------------------------------------------------------\n",
      "const          3108.0008     77.877     39.909      0.000    2954.719    3261.283\n",
      "SleepDuration    -0.8186      0.086     -9.552      0.000      -0.987      -0.650\n",
      "==============================================================================\n",
      "Omnibus:                       60.468   Durbin-Watson:                   0.357\n",
      "Prob(Omnibus):                  0.000   Jarque-Bera (JB):              271.280\n",
      "Skew:                           0.770   Prob(JB):                     1.24e-59\n",
      "Kurtosis:                       7.490   Cond. No.                     1.26e+03\n",
      "==============================================================================\n",
      "\n",
      "Notes:\n",
      "[1] Standard Errors assume that the covariance matrix of the errors is correctly specified.\n",
      "[2] The condition number is large, 1.26e+03. This might indicate that there are\n",
      "strong multicollinearity or other numerical problems.\n"
     ]
    }
   ],
   "source": [
    "    # Output model metrics\n",
    "    print(\"Model Summary:\")\n",
    "    print(ols_model.summary())"
   ]
  },
  {
   "cell_type": "code",
   "execution_count": 108,
   "metadata": {},
   "outputs": [
    {
     "name": "stdout",
     "output_type": "stream",
     "text": [
      "\n",
      "Adjusted R²: 0.23858335006502895\n",
      "Root Mean Squared Error (RMSE): 953.9765394770617\n",
      "Mean Absolute Error (MAE): 689.9606659174169\n"
     ]
    }
   ],
   "source": [
    "# Output specific metrics\n",
    "print(\"\\nAdjusted R²:\", adjusted_r2)\n",
    "print(\"Root Mean Squared Error (RMSE):\", rmse)\n",
    "print(\"Mean Absolute Error (MAE):\", mae)"
   ]
  },
  {
   "cell_type": "code",
   "execution_count": 109,
   "metadata": {},
   "outputs": [
    {
     "data": {
      "image/png": "[encoded data removed]",
      "text/plain": [
       "<Figure size 800x500 with 1 Axes>"
      ]
     },
     "metadata": {},
     "output_type": "display_data"
    }
   ],
   "source": [
    "    # Plot residuals\n",
    "    residuals = y - y_pred_statsmodels\n",
    "    plt.figure(figsize=(8, 5))\n",
    "    plt.scatter(y_pred_statsmodels, residuals, alpha=0.6)\n",
    "    plt.axhline(y=0, color='r', linestyle='--')\n",
    "    plt.title(\"Residuals vs Predicted Values\")\n",
    "    plt.xlabel(\"Predicted Values\")\n",
    "    plt.ylabel(\"Residuals\")\n",
    "    plt.show()"
   ]
  },
  {
   "cell_type": "markdown",
   "metadata": {},
   "source": [
    "Interpretations Based on the Metrics\n",
    "\n",
    "*Model Performance Metrics*\n",
    "\n",
    "Adjusted R²: 0.239\n",
    "Adjusted R² measures the proportion of variability in the dependent variable (Calories burned) that is explained by the independent variable (Sleep Duration). Here, an Adjusted R² of 0.239 means that 23.9% of the variation in calories burned is explained by sleep duration. This indicates that while there is a relationship, it is not particularly strong, suggesting there are other factors contributing to calories burned beyond sleep duration.\n",
    "\n",
    "Root Mean Squared Error (RMSE): 953.98\n",
    "RMSE is a measure of how well the model’s predictions match the observed values, expressed in the same units as the dependent variable (Calories). An RMSE of 953.98 suggests that, on average, the difference between predicted and actual calorie values is about 953 calories. This is a relatively large error, which means that the model does not predict calories burned with high precision.\n",
    "\n",
    "Mean Absolute Error (MAE): 689.96\n",
    "MAE represents the average magnitude of errors in the model's predictions. Here, the MAE of 689.96 means that, on average, the model’s predictions are off by approximately 690 calories, which further suggests that there is significant variability not captured by sleep duration alone.\n",
    "\n",
    "\n",
    "*Regression Coefficients and Statistical Significance*\n",
    "\n",
    "Constant (Intercept): 3108.00\n",
    "The constant or intercept indicates the predicted calories burned when sleep duration is zero. The value 3108.00 suggests that, on average, if sleep duration were zero, the model predicts about 3108 calories burned, which represents the baseline calorie expenditure possibly due to Basal Metabolic Rate (BMR) and other physiological processes.\n",
    "\n",
    "Sleep Duration Coefficient: -0.8186\n",
    "This coefficient represents the expected change in calories burned for each additional hour of sleep. The value of -0.8186 suggests a slight negative relationship between sleep duration and calories burned. For each additional minute of sleep, the calories burned decrease by approximately 0.8186. This negative relationship might be explained by reduced activity during longer sleep periods. However, the magnitude is quite small, indicating a weak impact.\n",
    "\n",
    "P-value (Sleep Duration): 0.000\n",
    "The p-value for Sleep Duration is 0.000, which is much less than the common significance level of 0.05. This means that the relationship between sleep duration and calories burned is statistically significant. In other words, there is strong evidence that sleep duration affects calories burned, although it might not be the most impactful variable.\n",
    "\n",
    "*Statistical Tests*\n",
    "\n",
    "F-statistic: 91.24, Prob (F-statistic): 5.93e-19\n",
    "The F-statistic is used to test whether at least one independent variable is significantly related to the dependent variable. With an F-statistic of 91.24 and a p-value of 5.93e-19, the model is statistically significant overall, suggesting that the relationship between sleep duration and calories burned is unlikely to have occurred by chance.\n",
    "\n",
    "Standard Error and t-statistics\n",
    "The standard error for the Sleep Duration coefficient is 0.086, which is relatively small, indicating a reliable coefficient estimate.\n",
    "The t-statistic of -9.552 for Sleep Duration shows that this variable is statistically significant, as the p-value for this t-statistic is well below 0.05.\n",
    "\n",
    "\n",
    "*Resideual Diagnostics*\n",
    "\n",
    "Omnibus: 60.468, Prob(Omnibus): 0.000\n",
    "The Omnibus test is a test for normality in the residuals. With a probability value of 0.000, the residuals do not appear to be normally distributed, which could indicate some issues with model assumptions or a need for model improvements.\n",
    "\n",
    "Jarque-Bera (JB): 271.280, Prob(JB): 1.24e-59\n",
    "The Jarque-Bera test also indicates that the residuals deviate from normality (as evidenced by a very low p-value). This suggests that the model's errors are not normally distributed, potentially indicating model misspecification or the presence of outliers.\n",
    "\n",
    "Durbin-Watson: 0.357\n",
    "The Durbin-Watson statistic tests for the presence of autocorrelation in residuals. A value close to 2 indicates no autocorrelation. Here, the value of 0.357 suggests positive autocorrelation in the residuals, indicating that the errors are not independent. This could point to patterns over time that the model fails to capture.\n",
    "\n",
    "*Condition Number and Multicollinearity*\n",
    "\n",
    "Condition Number: 1.26e+03\n",
    "The condition number is used to diagnose multicollinearity (when independent variables are highly correlated). A condition number above 30 indicates potential multicollinearity. With a condition number of 1260, this suggests that there may be some multicollinearity or numerical instability in the model. Since we only have one independent variable in this model, this high value might also indicate problems with scaling or variance in the data.\n",
    "\n",
    "*Overall Interpretation and Recommendations*\n",
    "\n",
    "Relationship Insight: The model indicates a weak but statistically significant negative relationship between sleep duration and calories burned. Although significant, the small coefficient indicates that sleep duration alone does not have a substantial impact on calorie expenditure.\n",
    "\n",
    "Model Limitations: The low Adjusted R² suggests that a large proportion of the variation in calories burned is not explained by sleep duration. There are likely other important factors, such as physical activity, diet, or individual differences, that could provide a more complete understanding of calorie expenditure.\n",
    "\n",
    "Residual Issues: The non-normality of residuals, the positive autocorrelation, and the high condition number all point to potential issues in the model. The errors are not independently distributed, which implies that there might be systematic trends that are not captured by this simple linear model. This might necessitate exploring other features or considering non-linear relationships.\n",
    "\n",
    "*Conclusion*\n",
    "\n",
    "The model demonstrates that there is a statistically significant relationship between sleep duration and calories burned, but this relationship is weak and does not fully explain the variability in the dependent variable. More comprehensive modeling approaches are required to better understand the factors influencing calorie expenditure, which likely include a mix of physical activity, dietary factors, and individual physiological differences.\n",
    "\n",
    "The regression analysis indicates a statistically significant but weak negative relationship between sleep duration and calories burned, with sleep duration explaining only 23.9% of the variability in calorie expenditure. The model's low Adjusted R², high RMSE, and presence of non-normal residuals suggest that other factors, such as physical activity or diet, play a significant role in determining calorie expenditure beyond sleep duration alone. Furthermore, the positive autocorrelation in residuals implies that patterns in the data are not being fully captured by this simple linear model."
   ]
  }
 ],
 "metadata": {
  "kernelspec": {
   "display_name": "myenv",
   "language": "python",
   "name": "python3"
  },
  "language_info": {
   "codemirror_mode": {
    "name": "ipython",
    "version": 3
   },
   "file_extension": ".py",
   "mimetype": "text/x-python",
   "name": "python",
   "nbconvert_exporter": "python",
   "pygments_lexer": "ipython3",
   "version": "3.10.15"
  }
 },
 "nbformat": 4,
 "nbformat_minor": 2
}
